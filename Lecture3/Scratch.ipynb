{
 "cells": [
  {
   "cell_type": "code",
   "id": "initial_id",
   "metadata": {
    "collapsed": true,
    "ExecuteTime": {
     "end_time": "2025-02-04T16:49:41.384083Z",
     "start_time": "2025-02-04T16:49:41.375789Z"
    }
   },
   "source": [
    "import numpy as np\n",
    "from scipy.signal import tf2zpk\n",
    "from typing_extensions import runtime\n",
    "a=[0.09]\n",
    "b=[-1, 1]\n",
    "z,p,k = tf2zpk([-1, 1],  [1,-0.9])\n",
    "print(\"Zeros:\", z)\n",
    "print(\"Poles:\", p)\n",
    "print(\"Gain:\", k)\n"
   ],
   "outputs": [
    {
     "name": "stdout",
     "output_type": "stream",
     "text": [
      "Zeros: [1.]\n",
      "Poles: [0.9]\n",
      "Gain: -1.0\n"
     ]
    }
   ],
   "execution_count": 6
  },
  {
   "metadata": {
    "ExecuteTime": {
     "end_time": "2025-02-04T16:49:44.103950Z",
     "start_time": "2025-02-04T16:49:44.081148Z"
    }
   },
   "cell_type": "code",
   "source": "np.hstack(([1], np.array(b))), np.hstack(([1], -np.array(a)))\n",
   "id": "4698fe7164bdcdd0",
   "outputs": [
    {
     "data": {
      "text/plain": [
       "(array([ 1, -1,  1]), array([ 1.  , -0.09]))"
      ]
     },
     "execution_count": 7,
     "metadata": {},
     "output_type": "execute_result"
    }
   ],
   "execution_count": 7
  },
  {
   "metadata": {
    "ExecuteTime": {
     "end_time": "2025-02-04T17:09:07.354568Z",
     "start_time": "2025-02-04T17:09:07.263945Z"
    }
   },
   "cell_type": "code",
   "source": [
    "import control\n",
    "import matplotlib.pyplot as plt\n",
    "\n",
    "# Define the numerator and denominator coefficients of the transfer function\n",
    "numerator = [1, 3]\n",
    "denominator = [1, 2, 2]\n",
    "\n",
    "# Create the transfer function\n",
    "system = control.TransferFunction(numerator, denominator)\n",
    "\n",
    "# Plot the pole-zero map\n",
    "control.pzmap(system, grid=True, title='Pole-Zero Map')\n",
    "plt.show()"
   ],
   "id": "373d32056067ef74",
   "outputs": [
    {
     "ename": "ModuleNotFoundError",
     "evalue": "No module named 'control'",
     "output_type": "error",
     "traceback": [
      "\u001B[0;31m---------------------------------------------------------------------------\u001B[0m",
      "\u001B[0;31mModuleNotFoundError\u001B[0m                       Traceback (most recent call last)",
      "Cell \u001B[0;32mIn[8], line 1\u001B[0m\n\u001B[0;32m----> 1\u001B[0m \u001B[38;5;28;01mimport\u001B[39;00m\u001B[38;5;250m \u001B[39m\u001B[38;5;21;01mcontrol\u001B[39;00m\n\u001B[1;32m      2\u001B[0m \u001B[38;5;28;01mimport\u001B[39;00m\u001B[38;5;250m \u001B[39m\u001B[38;5;21;01mmatplotlib\u001B[39;00m\u001B[38;5;21;01m.\u001B[39;00m\u001B[38;5;21;01mpyplot\u001B[39;00m\u001B[38;5;250m \u001B[39m\u001B[38;5;28;01mas\u001B[39;00m\u001B[38;5;250m \u001B[39m\u001B[38;5;21;01mplt\u001B[39;00m\n\u001B[1;32m      4\u001B[0m \u001B[38;5;66;03m# Define the numerator and denominator coefficients of the transfer function\u001B[39;00m\n",
      "\u001B[0;31mModuleNotFoundError\u001B[0m: No module named 'control'"
     ]
    }
   ],
   "execution_count": 8
  },
  {
   "metadata": {
    "ExecuteTime": {
     "end_time": "2025-02-04T17:09:37.235089Z",
     "start_time": "2025-02-04T17:09:34.933611Z"
    }
   },
   "cell_type": "code",
   "source": "!pip install control\n",
   "id": "3c1048a75a973457",
   "outputs": [
    {
     "name": "stdout",
     "output_type": "stream",
     "text": [
      "Requirement already satisfied: control in /Users/psajda/anaconda3/lib/python3.11/site-packages (0.10.1)\r\n",
      "Requirement already satisfied: numpy>=1.23 in /Users/psajda/anaconda3/lib/python3.11/site-packages (from control) (1.26.4)\r\n",
      "Requirement already satisfied: scipy>=1.8 in /Users/psajda/anaconda3/lib/python3.11/site-packages (from control) (1.11.1)\r\n",
      "Requirement already satisfied: matplotlib>=3.6 in /Users/psajda/anaconda3/lib/python3.11/site-packages (from control) (3.7.2)\r\n",
      "Requirement already satisfied: contourpy>=1.0.1 in /Users/psajda/anaconda3/lib/python3.11/site-packages (from matplotlib>=3.6->control) (1.0.5)\r\n",
      "Requirement already satisfied: cycler>=0.10 in /Users/psajda/anaconda3/lib/python3.11/site-packages (from matplotlib>=3.6->control) (0.11.0)\r\n",
      "Requirement already satisfied: fonttools>=4.22.0 in /Users/psajda/anaconda3/lib/python3.11/site-packages (from matplotlib>=3.6->control) (4.25.0)\r\n",
      "Requirement already satisfied: kiwisolver>=1.0.1 in /Users/psajda/anaconda3/lib/python3.11/site-packages (from matplotlib>=3.6->control) (1.4.4)\r\n",
      "Requirement already satisfied: packaging>=20.0 in /Users/psajda/anaconda3/lib/python3.11/site-packages (from matplotlib>=3.6->control) (23.1)\r\n",
      "Requirement already satisfied: pillow>=6.2.0 in /Users/psajda/anaconda3/lib/python3.11/site-packages (from matplotlib>=3.6->control) (9.4.0)\r\n",
      "Requirement already satisfied: pyparsing<3.1,>=2.3.1 in /Users/psajda/anaconda3/lib/python3.11/site-packages (from matplotlib>=3.6->control) (3.0.9)\r\n",
      "Requirement already satisfied: python-dateutil>=2.7 in /Users/psajda/anaconda3/lib/python3.11/site-packages (from matplotlib>=3.6->control) (2.8.2)\r\n",
      "Requirement already satisfied: six>=1.5 in /Users/psajda/anaconda3/lib/python3.11/site-packages (from python-dateutil>=2.7->matplotlib>=3.6->control) (1.16.0)\r\n"
     ]
    }
   ],
   "execution_count": 9
  },
  {
   "metadata": {
    "ExecuteTime": {
     "end_time": "2025-02-04T17:09:46.378172Z",
     "start_time": "2025-02-04T17:09:46.352886Z"
    }
   },
   "cell_type": "code",
   "source": [
    "import control\n",
    "import matplotlib.pyplot as plt\n",
    "\n",
    "# Define the numerator and denominator coefficients of the transfer function\n",
    "numerator = [1, 3]\n",
    "denominator = [1, 2, 2]\n",
    "\n",
    "# Create the transfer function\n",
    "system = control.TransferFunction(numerator, denominator)\n",
    "\n",
    "# Plot the pole-zero map\n",
    "control.pzmap(system, grid=True, title='Pole-Zero Map')\n",
    "plt.show()"
   ],
   "id": "ead2717fdec4c7a0",
   "outputs": [
    {
     "ename": "ModuleNotFoundError",
     "evalue": "No module named 'control'",
     "output_type": "error",
     "traceback": [
      "\u001B[0;31m---------------------------------------------------------------------------\u001B[0m",
      "\u001B[0;31mModuleNotFoundError\u001B[0m                       Traceback (most recent call last)",
      "Cell \u001B[0;32mIn[10], line 1\u001B[0m\n\u001B[0;32m----> 1\u001B[0m \u001B[38;5;28;01mimport\u001B[39;00m\u001B[38;5;250m \u001B[39m\u001B[38;5;21;01mcontrol\u001B[39;00m\n\u001B[1;32m      2\u001B[0m \u001B[38;5;28;01mimport\u001B[39;00m\u001B[38;5;250m \u001B[39m\u001B[38;5;21;01mmatplotlib\u001B[39;00m\u001B[38;5;21;01m.\u001B[39;00m\u001B[38;5;21;01mpyplot\u001B[39;00m\u001B[38;5;250m \u001B[39m\u001B[38;5;28;01mas\u001B[39;00m\u001B[38;5;250m \u001B[39m\u001B[38;5;21;01mplt\u001B[39;00m\n\u001B[1;32m      4\u001B[0m \u001B[38;5;66;03m# Define the numerator and denominator coefficients of the transfer function\u001B[39;00m\n",
      "\u001B[0;31mModuleNotFoundError\u001B[0m: No module named 'control'"
     ]
    }
   ],
   "execution_count": 10
  }
 ],
 "metadata": {
  "kernelspec": {
   "display_name": "Python 3",
   "language": "python",
   "name": "python3"
  },
  "language_info": {
   "codemirror_mode": {
    "name": "ipython",
    "version": 2
   },
   "file_extension": ".py",
   "mimetype": "text/x-python",
   "name": "python",
   "nbconvert_exporter": "python",
   "pygments_lexer": "ipython2",
   "version": "2.7.6"
  }
 },
 "nbformat": 4,
 "nbformat_minor": 5
}
