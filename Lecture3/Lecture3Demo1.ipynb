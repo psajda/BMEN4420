{
 "cells": [
  {
   "cell_type": "code",
   "id": "initial_id",
   "metadata": {
    "collapsed": true,
    "ExecuteTime": {
     "end_time": "2025-02-04T18:20:13.295289Z",
     "start_time": "2025-02-04T18:20:13.199109Z"
    }
   },
   "source": [
    "import numpy as np\n",
    "import matplotlib.pyplot as plt\n",
    "from ipywidgets import interact, fixed\n",
    "\n",
    "def arma_filter(a, b, x):\n",
    "    P = len(a)  # AR order\n",
    "    Q = len(b)  # MA order\n",
    "    N = len(x)  # Length of the input signal\n",
    "\n",
    "    y = np.zeros(N)  # Initialize output array\n",
    "\n",
    "    for n in range(N):\n",
    "        # Compute the AR contribution: -sum_{k=1..P} a[k] * y[n-k]\n",
    "        ar_sum = 0.0\n",
    "        for k in range(1, P + 1):\n",
    "            if n - k >= 0:\n",
    "                ar_sum += a[k - 1] * y[n - k]\n",
    "\n",
    "        # Compute the MA contribution: sum_{k=0..Q} b[k] * x[n-k]\n",
    "        ma_sum = 0.0\n",
    "        for k in range(Q):\n",
    "            if n - k >= 0:\n",
    "                ma_sum += b[k] * x[n - k]\n",
    "\n",
    "        # Combine them (notice the minus sign on the AR part)\n",
    "        y[n] = -ar_sum + ma_sum\n",
    "\n",
    "    return y\n",
    "\n",
    "def plot_arma(a, b, x):\n",
    "    y = arma_filter(a, b, x)\n",
    "\n",
    "    # Plot the original and filtered signals\n",
    "    plt.figure(figsize=(12, 6))\n",
    "    plt.plot(x, label='Original Signal x')\n",
    "    plt.plot(y, label='Filtered Signal y')\n",
    "    plt.title('Original and Filtered Signals')\n",
    "    plt.xlabel('Index')\n",
    "    plt.ylabel('Value')\n",
    "    plt.legend()\n",
    "    plt.grid(True)\n",
    "\n",
    "    # Print the difference equation\n",
    "    ar_terms = ' - '.join([f'{a[i]}*y[n-{i+1}]' for i in range(len(a))])\n",
    "    ma_terms = ' + '.join([f'{b[i]}*x[n-{i}]' for i in range(len(b))])\n",
    "    difference_equation = f'y[n] = -({ar_terms}) + ({ma_terms})'\n",
    "\n",
    "    # Add the difference equation to the plot\n",
    "    plt.text(0.05, 0.95, difference_equation, transform=plt.gca().transAxes, fontsize=12,\n",
    "             verticalalignment='top', bbox=dict(boxstyle='round,pad=0.5', facecolor='white', alpha=0.5))\n",
    "\n",
    "    plt.show()\n",
    "\n",
    "    print(\"Difference Equation:\")\n",
    "    print(difference_equation)\n",
    "\n",
    "# Example usage\n",
    "x = np.sin(2 * np.pi * 8 * np.linspace(0, 2, 100))  # 3Hz sine wave for 2 seconds\n",
    "a = [0.5, -0.2]  # Example AR coefficients\n",
    "b = [1.0, 0.5, 0.3]  # Example MA coefficients\n",
    "\n",
    "interact(plot_arma, a=fixed(a), b=fixed(b), x=fixed(x))\n",
    "\n",
    "\n"
   ],
   "outputs": [
    {
     "data": {
      "text/plain": [
       "interactive(children=(Output(),), _dom_classes=('widget-interact',))"
      ],
      "application/vnd.jupyter.widget-view+json": {
       "version_major": 2,
       "version_minor": 0,
       "model_id": "c9ecb40dc843495681ca98826efc6db3"
      }
     },
     "metadata": {},
     "output_type": "display_data"
    },
    {
     "data": {
      "text/plain": [
       "<function __main__.plot_arma(a, b, x)>"
      ]
     },
     "execution_count": 24,
     "metadata": {},
     "output_type": "execute_result"
    }
   ],
   "execution_count": 24
  },
  {
   "metadata": {},
   "cell_type": "code",
   "outputs": [],
   "execution_count": null,
   "source": "",
   "id": "d83708d0d2849a6c"
  },
  {
   "metadata": {
    "ExecuteTime": {
     "end_time": "2025-02-04T18:21:15.515935Z",
     "start_time": "2025-02-04T18:21:15.184441Z"
    }
   },
   "cell_type": "code",
   "source": [
    "import numpy as np\n",
    "import matplotlib.pyplot as plt\n",
    "import pooch\n",
    "from scipy.datasets import electrocardiogram\n",
    "\n",
    "\n",
    "ecg = electrocardiogram()\n",
    "\n",
    "fs = 360  # Sampling frequency in Hz\n",
    "\n",
    "x=ecg[1:200]\n",
    "time = np.arange(ecg.size) / fs\n",
    "time = time[1:200]\n",
    "plt.plot(time,x)\n",
    "plt.xlabel(\"Time (s)\")\n",
    "plt.ylabel(\"ECG (mV)\")\n",
    "plt.title(\"ECG Signal\")\n",
    "plt.show()"
   ],
   "id": "8af01a63463e394d",
   "outputs": [
    {
     "data": {
      "text/plain": [
       "<Figure size 640x480 with 1 Axes>"
      ],
      "image/png": "[encoded data removed]"
     },
     "metadata": {},
     "output_type": "display_data"
    }
   ],
   "execution_count": 25
  },
  {
   "metadata": {
    "ExecuteTime": {
     "end_time": "2025-02-04T18:23:34.797697Z",
     "start_time": "2025-02-04T18:23:34.700346Z"
    }
   },
   "cell_type": "code",
   "source": [
    "x = ecg[1:200]\n",
    "a = [0.5, -1.2]  # Example AR coefficients\n",
    "b = [1.0, 0.5, 0.3]  # Example MA coefficients\n",
    "\n",
    "interact(plot_arma, a=fixed(a), b=fixed(b), x=fixed(x))\n"
   ],
   "id": "ed0cdfaeff370b7a",
   "outputs": [
    {
     "data": {
      "text/plain": [
       "interactive(children=(Output(),), _dom_classes=('widget-interact',))"
      ],
      "application/vnd.jupyter.widget-view+json": {
       "version_major": 2,
       "version_minor": 0,
       "model_id": "e641f216e48645079a5fd11526fb50de"
      }
     },
     "metadata": {},
     "output_type": "display_data"
    },
    {
     "data": {
      "text/plain": [
       "<function __main__.plot_arma(a, b, x)>"
      ]
     },
     "execution_count": 27,
     "metadata": {},
     "output_type": "execute_result"
    }
   ],
   "execution_count": 27
  }
 ],
 "metadata": {
  "kernelspec": {
   "display_name": "Python 3",
   "language": "python",
   "name": "python3"
  },
  "language_info": {
   "codemirror_mode": {
    "name": "ipython",
    "version": 2
   },
   "file_extension": ".py",
   "mimetype": "text/x-python",
   "name": "python",
   "nbconvert_exporter": "python",
   "pygments_lexer": "ipython2",
   "version": "2.7.6"
  }
 },
 "nbformat": 4,
 "nbformat_minor": 5
}
