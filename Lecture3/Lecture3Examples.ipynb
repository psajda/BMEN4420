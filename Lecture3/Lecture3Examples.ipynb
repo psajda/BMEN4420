{
 "cells": [
  {
   "cell_type": "code",
   "id": "initial_id",
   "metadata": {
    "collapsed": true,
    "ExecuteTime": {
     "end_time": "2025-02-04T17:26:16.549268Z",
     "start_time": "2025-02-04T17:26:16.392196Z"
    }
   },
   "source": [
    "import numpy as np\n",
    "import matplotlib.pyplot as plt\n",
    "from ipywidgets import interact, fixed\n",
    "from scipy.signal import tf2zpk\n",
    "\n",
    "def arma_filter(a, b, x):\n",
    "    P = len(a)  # AR order\n",
    "    Q = len(b)  # MA order\n",
    "    N = len(x)  # Length of the input signal\n",
    "\n",
    "    y = np.zeros(N)  # Initialize output array\n",
    "\n",
    "    for n in range(N):\n",
    "        # Compute the AR contribution: -sum_{k=1..P} a[k] * y[n-k]\n",
    "        ar_sum = 0.0\n",
    "        for k in range(1, P + 1):\n",
    "            if n - k >= 0:\n",
    "                ar_sum += a[k - 1] * y[n - k]\n",
    "\n",
    "        # Compute the MA contribution: sum_{k=0..Q} b[k] * x[n-k]\n",
    "        ma_sum = 0.0\n",
    "        for k in range(Q):\n",
    "            if n - k >= 0:\n",
    "                ma_sum += b[k] * x[n - k]\n",
    "\n",
    "        # Combine them (notice the minus sign on the AR part)\n",
    "        y[n] = -ar_sum + ma_sum\n",
    "\n",
    "    return y\n",
    "\n",
    "def plot_arma(a, b, x):\n",
    "    y = arma_filter(a, b, x)\n",
    "\n",
    "    # Plot the original and filtered signals\n",
    "    plt.figure(figsize=(12, 6))\n",
    "    plt.plot(x, label='Original Signal x')\n",
    "    plt.plot(y, label='Filtered Signal y')\n",
    "    plt.title('Original and Filtered Signals')\n",
    "    plt.xlabel('Index')\n",
    "    plt.ylabel('Value')\n",
    "    plt.legend()\n",
    "    plt.grid(True)\n",
    "\n",
    "    # Print the difference equation\n",
    "    ar_terms = ' - '.join([f'{a[i]}*y[n-{i+1}]' for i in range(len(a))])\n",
    "    ma_terms = ' + '.join([f'{b[i]}*x[n-{i}]' for i in range(len(b))])\n",
    "    difference_equation = f'y[n] = -({ar_terms}) + ({ma_terms})'\n",
    "\n",
    "    # Add the difference equation to the plot\n",
    "    plt.text(0.05, 0.95, difference_equation, transform=plt.gca().transAxes, fontsize=12,\n",
    "             verticalalignment='top', bbox=dict(boxstyle='round,pad=0.5', facecolor='white', alpha=0.5))\n",
    "\n",
    "    plt.show()\n",
    "\n",
    "    print(\"Difference Equation:\")\n",
    "    print(difference_equation)\n",
    "\n",
    "    # Plot poles and zeros\n",
    "    z, p, k = tf2zpk(b, np.hstack(([1], -np.array(a))))\n",
    "    plt.figure(figsize=(6, 6))\n",
    "    plt.scatter(np.real(z), np.imag(z), marker='o', label='Zeros')\n",
    "    plt.scatter(np.real(p), np.imag(p), marker='x', label='Poles')\n",
    "    plt.axvline(0, color='k', lw=1)\n",
    "    plt.axhline(0, color='k', lw=1)\n",
    "    plt.title('Poles and Zeros')\n",
    "    plt.xlabel('Real')\n",
    "    plt.ylabel('Imaginary')\n",
    "    plt.legend()\n",
    "    plt.grid(True)\n",
    "    plt.gca().set_aspect('equal', adjustable='box')\n",
    "\n",
    "    # Plot the unit circle\n",
    "    unit_circle = plt.Circle((0, 0), 1, color='gray', fill=False, linestyle='--')\n",
    "    plt.gca().add_artist(unit_circle)\n",
    "\n",
    "    # Set plot limits\n",
    "    plt.xlim(-2, 2)\n",
    "    plt.ylim(-2, 2)\n",
    "\n",
    "    # Check stability\n",
    "    if np.all(np.abs(p) < 1):\n",
    "        stability = \"Stable\"\n",
    "    else:\n",
    "        stability = \"Unstable\"\n",
    "    plt.text(0.05, 0.95, f'System is {stability}', transform=plt.gca().transAxes, fontsize=12,\n",
    "             verticalalignment='top', bbox=dict(boxstyle='round,pad=0.5', facecolor='white', alpha=0.5))\n",
    "\n",
    "    plt.show()\n",
    "\n",
    "# Example usage\n",
    "x = np.sin(2 * np.pi * 3 * np.linspace(0, 2, 100))  # 3Hz sine wave for 2 seconds\n",
    "#a = [0.5, -0.2]  # Example AR coefficients\n",
    "#b = [1.0, 0.5, 0.3]  # Example MA coefficients\n",
    "a = [-0.9]  # Example AR coefficients\n",
    "b = [1]  # Example MA coefficients\n",
    "\n",
    "interact(plot_arma, a=fixed(a), b=fixed(b), x=fixed(x))"
   ],
   "outputs": [
    {
     "data": {
      "text/plain": [
       "interactive(children=(Output(),), _dom_classes=('widget-interact',))"
      ],
      "application/vnd.jupyter.widget-view+json": {
       "version_major": 2,
       "version_minor": 0,
       "model_id": "199da32f01404b2db470102ff7c62fa9"
      }
     },
     "metadata": {},
     "output_type": "display_data"
    },
    {
     "data": {
      "text/plain": [
       "<function __main__.plot_arma(a, b, x)>"
      ]
     },
     "execution_count": 6,
     "metadata": {},
     "output_type": "execute_result"
    }
   ],
   "execution_count": 6
  },
  {
   "metadata": {
    "ExecuteTime": {
     "end_time": "2025-02-03T20:56:56.054092Z",
     "start_time": "2025-02-03T20:56:55.904308Z"
    }
   },
   "cell_type": "code",
   "source": "interact(plot_arma, a=fixed(a), b=fixed(b), x=fixed(x))",
   "id": "cd574d8de703d90d",
   "outputs": [
    {
     "data": {
      "text/plain": [
       "interactive(children=(Output(),), _dom_classes=('widget-interact',))"
      ],
      "application/vnd.jupyter.widget-view+json": {
       "version_major": 2,
       "version_minor": 0,
       "model_id": "b0dd4c7b40d7483d9791c8aa6f09b877"
      }
     },
     "metadata": {},
     "output_type": "display_data"
    },
    {
     "data": {
      "text/plain": [
       "<function __main__.plot_arma(a, b, x)>"
      ]
     },
     "execution_count": 3,
     "metadata": {},
     "output_type": "execute_result"
    }
   ],
   "execution_count": 3
  }
 ],
 "metadata": {
  "kernelspec": {
   "display_name": "Python 3",
   "language": "python",
   "name": "python3"
  },
  "language_info": {
   "codemirror_mode": {
    "name": "ipython",
    "version": 2
   },
   "file_extension": ".py",
   "mimetype": "text/x-python",
   "name": "python",
   "nbconvert_exporter": "python",
   "pygments_lexer": "ipython2",
   "version": "2.7.6"
  }
 },
 "nbformat": 4,
 "nbformat_minor": 5
}
